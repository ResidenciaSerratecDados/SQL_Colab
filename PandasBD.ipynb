{
  "nbformat": 4,
  "nbformat_minor": 0,
  "metadata": {
    "colab": {
      "provenance": []
    },
    "kernelspec": {
      "name": "python3",
      "display_name": "Python 3"
    },
    "language_info": {
      "name": "python"
    }
  },
  "cells": [
    {
      "cell_type": "code",
      "execution_count": null,
      "metadata": {
        "id": "gsqZbDZ2_kqv"
      },
      "outputs": [],
      "source": [
        "#exemplo utilização\n",
        "import pandas as pd"
      ]
    },
    {
      "cell_type": "code",
      "source": [
        "#Criando um DataFrame\n",
        "data = {\n",
        "    'Nome': ['Ana', 'João', 'Maria'],\n",
        "    'Idade': [25, 30, 28],\n",
        "    'Salario': [5000, 7000, 6000]\n",
        "}\n",
        "df = pd.DataFrame(data)"
      ],
      "metadata": {
        "id": "AKPEAWrw_uk2"
      },
      "execution_count": null,
      "outputs": []
    },
    {
      "cell_type": "code",
      "source": [
        "print(df.head())"
      ],
      "metadata": {
        "colab": {
          "base_uri": "https://localhost:8080/"
        },
        "id": "NL8VCxfoANSf",
        "outputId": "72ddacdd-9748-420c-eeee-1b694a9798f0"
      },
      "execution_count": null,
      "outputs": [
        {
          "output_type": "stream",
          "name": "stdout",
          "text": [
            "    Nome  Idade  Salario\n",
            "0    Ana     25     5000\n",
            "1   João     30     7000\n",
            "2  Maria     28     6000\n"
          ]
        }
      ]
    },
    {
      "cell_type": "code",
      "source": [
        "print(df.info())"
      ],
      "metadata": {
        "colab": {
          "base_uri": "https://localhost:8080/"
        },
        "id": "t3G3tctWAn6w",
        "outputId": "238fba72-ec22-4559-f6b2-8d00ccd3b9ce"
      },
      "execution_count": null,
      "outputs": [
        {
          "output_type": "stream",
          "name": "stdout",
          "text": [
            "<class 'pandas.core.frame.DataFrame'>\n",
            "RangeIndex: 3 entries, 0 to 2\n",
            "Data columns (total 3 columns):\n",
            " #   Column   Non-Null Count  Dtype \n",
            "---  ------   --------------  ----- \n",
            " 0   Nome     3 non-null      object\n",
            " 1   Idade    3 non-null      int64 \n",
            " 2   Salario  3 non-null      int64 \n",
            "dtypes: int64(2), object(1)\n",
            "memory usage: 204.0+ bytes\n",
            "None\n"
          ]
        }
      ]
    },
    {
      "cell_type": "code",
      "source": [
        "print(df.describe())"
      ],
      "metadata": {
        "colab": {
          "base_uri": "https://localhost:8080/"
        },
        "id": "MNP4or28A3UW",
        "outputId": "645ad03a-7434-4fc4-8385-2af44c8fb8cd"
      },
      "execution_count": null,
      "outputs": [
        {
          "output_type": "stream",
          "name": "stdout",
          "text": [
            "           Idade  Salario\n",
            "count   3.000000      3.0\n",
            "mean   27.666667   6000.0\n",
            "std     2.516611   1000.0\n",
            "min    25.000000   5000.0\n",
            "25%    26.500000   5500.0\n",
            "50%    28.000000   6000.0\n",
            "75%    29.000000   6500.0\n",
            "max    30.000000   7000.0\n"
          ]
        }
      ]
    },
    {
      "cell_type": "code",
      "source": [
        "import numpy as np"
      ],
      "metadata": {
        "id": "3xfdP2I2Bwl3"
      },
      "execution_count": null,
      "outputs": []
    },
    {
      "cell_type": "code",
      "source": [
        "#Criando um array\n",
        "arr = np.array([1, 2, 3, 4, 5])\n",
        "\n",
        "#operações vetorizadas\n",
        "print(arr + 10) # soma 10 a cada elemento\n",
        "print(arr - 1) # subtrai 1 de cada elemento\n",
        "print(arr * 2) # multiplica cada elemento por 2\n",
        "print(arr ** 2) # eleva cada elemento por 2\n",
        "print(arr / 2) # divide cada elemento por 2"
      ],
      "metadata": {
        "colab": {
          "base_uri": "https://localhost:8080/"
        },
        "id": "yiIB2prKB-In",
        "outputId": "7ccab7d2-6ce9-495d-a136-45cc15c50f8b"
      },
      "execution_count": null,
      "outputs": [
        {
          "output_type": "stream",
          "name": "stdout",
          "text": [
            "[11 12 13 14 15]\n",
            "[0 1 2 3 4]\n",
            "[ 2  4  6  8 10]\n",
            "[ 1  4  9 16 25]\n",
            "[0.5 1.  1.5 2.  2.5]\n"
          ]
        }
      ]
    },
    {
      "cell_type": "code",
      "source": [
        "# 1 - criação de dados fictícios com NumPy\n",
        "np.random.seed(42)\n",
        "meses = np.array(['Jan', 'Fev', 'Mar', 'Abr', 'Mai'])\n",
        "vendas = np.random.randint(100, 500, size=5)\n",
        "custos = vendas * np.random.uniform(0.3, 0.7, size=5)\n",
        "#escolher numero aleatorio randômico\n",
        "\n",
        "print(meses)\n",
        "print(vendas)\n",
        "print(custos)"
      ],
      "metadata": {
        "colab": {
          "base_uri": "https://localhost:8080/"
        },
        "id": "sY8dYG19Czpm",
        "outputId": "c7dab6e9-01fa-4d26-bae0-71548adca378"
      },
      "execution_count": null,
      "outputs": [
        {
          "output_type": "stream",
          "name": "stdout",
          "text": [
            "['Jan' 'Fev' 'Mar' 'Abr' 'Mai']\n",
            "[202 448 370 206 171]\n",
            "[108.97160552 162.35854037 134.08718901  66.58608964 110.54644837]\n"
          ]
        }
      ]
    },
    {
      "cell_type": "code",
      "source": [
        "# 2 - Conversão para DataFrame do Pandas\n",
        "dados = pd.DataFrame({\n",
        "    'Mes': meses,\n",
        "    'Vendas (R$)': vendas,\n",
        "    'Custos (R$)': np.round(custos,2),\n",
        "    'Clientes': np.random.poisson(lam=50,size=5) #escolher numero aleatorio randômico\n",
        "})\n",
        "print(dados)"
      ],
      "metadata": {
        "colab": {
          "base_uri": "https://localhost:8080/"
        },
        "id": "-Mbv27ZQEoiw",
        "outputId": "9292c990-9d3f-4e32-9c9b-80b5c25a0c3d"
      },
      "execution_count": null,
      "outputs": [
        {
          "output_type": "stream",
          "name": "stdout",
          "text": [
            "   Mes  Vendas (R$)  Custos (R$)  Clientes\n",
            "0  Jan          202       108.97        52\n",
            "1  Fev          448       162.36        58\n",
            "2  Mar          370       134.09        43\n",
            "3  Abr          206        66.59        46\n",
            "4  Mai          171       110.55        49\n"
          ]
        }
      ]
    },
    {
      "cell_type": "code",
      "source": [
        "dados['Lucro (R$)'] = dados['Vendas (R$)'] - dados['Custos (R$)'] # adição de colouna\n",
        "print(dados)"
      ],
      "metadata": {
        "colab": {
          "base_uri": "https://localhost:8080/"
        },
        "id": "z2AEe8s4GQtw",
        "outputId": "8affeb75-28de-4de6-a91f-17ce059ee47c"
      },
      "execution_count": null,
      "outputs": [
        {
          "output_type": "stream",
          "name": "stdout",
          "text": [
            "   Mes  Vendas (R$)  Custos (R$)  Clientes  Lucro (R$)\n",
            "0  Jan          202       108.97        52       93.03\n",
            "1  Fev          448       162.36        58      285.64\n",
            "2  Mar          370       134.09        43      235.91\n",
            "3  Abr          206        66.59        46      139.41\n",
            "4  Mai          171       110.55        49       60.45\n"
          ]
        }
      ]
    },
    {
      "cell_type": "code",
      "source": [
        "dados['Teste (R$)'] = dados['Vendas (R$)'] * dados['Lucro (R$)'] # adição de colouna\n",
        "print(dados)"
      ],
      "metadata": {
        "colab": {
          "base_uri": "https://localhost:8080/"
        },
        "id": "G0UK0fnFHF3X",
        "outputId": "ab8b6726-06b4-47a5-98d8-f18d44d423ad"
      },
      "execution_count": null,
      "outputs": [
        {
          "output_type": "stream",
          "name": "stdout",
          "text": [
            "   Mes  Vendas (R$)  Custos (R$)  Clientes  Lucro (R$)  Teste (R$)\n",
            "0  Jan          202       108.97        52       93.03    18792.06\n",
            "1  Fev          448       162.36        58      285.64   127966.72\n",
            "2  Mar          370       134.09        43      235.91    87286.70\n",
            "3  Abr          206        66.59        46      139.41    28718.46\n",
            "4  Mai          171       110.55        49       60.45    10336.95\n"
          ]
        }
      ]
    },
    {
      "cell_type": "code",
      "source": [
        "dados['Margem %'] = np.round((dados['Lucro (R$)']/ dados['Vendas (R$)']) * 100, 1) #Arredondamento para 1 casa decimal\n",
        "print(dados)"
      ],
      "metadata": {
        "colab": {
          "base_uri": "https://localhost:8080/"
        },
        "id": "ZX0hlQxrIQTh",
        "outputId": "3d6a04c4-19ce-455f-9087-00bdb71c2b2b"
      },
      "execution_count": null,
      "outputs": [
        {
          "output_type": "stream",
          "name": "stdout",
          "text": [
            "   Mes  Vendas (R$)  Custos (R$)  Clientes  Lucro (R$)  Teste (R$)  Margem %\n",
            "0  Jan          202       108.97        52       93.03    18792.06      46.1\n",
            "1  Fev          448       162.36        58      285.64   127966.72      63.8\n",
            "2  Mar          370       134.09        43      235.91    87286.70      63.8\n",
            "3  Abr          206        66.59        46      139.41    28718.46      67.7\n",
            "4  Mai          171       110.55        49       60.45    10336.95      35.4\n"
          ]
        }
      ]
    },
    {
      "cell_type": "code",
      "source": [
        "import numpy as np\n",
        "import matplotlib.pyplot as plt\n",
        "\n",
        "carteira_A = [0.01, 0.02, -0.015, 0.03, 0.005]\n",
        "variancia_A = np.var(carteira_A)\n",
        "print('Variância:', variancia_A)\n",
        "desvio_padrao_A = np.std(carteira_A)\n",
        "print('Desvio padrão:', desvio_padrao_A)"
      ],
      "metadata": {
        "colab": {
          "base_uri": "https://localhost:8080/"
        },
        "id": "bHCRu2OrR0wa",
        "outputId": "9cbf26c2-2fec-4a62-f37f-28dcac5cca06"
      },
      "execution_count": 3,
      "outputs": [
        {
          "output_type": "stream",
          "name": "stdout",
          "text": [
            "Variância: 0.00023\n",
            "Desvio padrão: 0.015165750888103102\n"
          ]
        }
      ]
    },
    {
      "cell_type": "code",
      "source": [
        "#criar carteiras, e imprima a variância e os desvio padrão"
      ],
      "metadata": {
        "id": "vCGNlWJRTlYn"
      },
      "execution_count": null,
      "outputs": []
    },
    {
      "cell_type": "code",
      "source": [
        "carteira_B = [0.012, 0.015, -0.01, 0.025, 0.008]\n",
        "carteira_C = [0.1, 0.025, 0.02, 0.025, 0.027, 0.03]\n",
        "carteira_D = [0.1, 0.027, 0.03, 0.0225, 0.023, 0.03]\n",
        "carteira_E = [0.1, 0.02, 0.03, 0.04, 0.05, 0.06]\n",
        "carteira_F = [-0.1, -0.02, -0.03, -0.035, -0.04, -0.055]"
      ],
      "metadata": {
        "id": "amhZYuqSTwrA"
      },
      "execution_count": 4,
      "outputs": []
    },
    {
      "cell_type": "code",
      "source": [
        "#VARIÂNCIAS\n",
        "print('Variância Carteira B:', np.var(carteira_B))\n",
        "print('Variância Carteira C:', np.var(carteira_C))\n",
        "print('Variância Carteira D:', np.var(carteira_D))\n",
        "print('Variância Carteira E:', np.var(carteira_E))\n",
        "print('Variância Carteira F:', np.var(carteira_F))"
      ],
      "metadata": {
        "colab": {
          "base_uri": "https://localhost:8080/"
        },
        "id": "-zaQvCg0UvxR",
        "outputId": "6723886e-16fe-410e-c306-ba892500cddb"
      },
      "execution_count": 5,
      "outputs": [
        {
          "output_type": "stream",
          "name": "stdout",
          "text": [
            "Variância Carteira B: 0.0001316\n",
            "Variância Carteira C: 0.0007818055555555557\n",
            "Variância Carteira D: 0.0007591458333333336\n",
            "Variância Carteira E: 0.0006666666666666669\n",
            "Variância Carteira F: 0.0006805555555555554\n"
          ]
        }
      ]
    },
    {
      "cell_type": "code",
      "source": [
        "#DESVIO PADRÃO\n",
        "print('Desvio padrão Carteira B:', np.std(carteira_B))\n",
        "print('Desvio padrão Carteira C:', np.std(carteira_C))\n",
        "print('Desvio padrão Carteira D:', np.std(carteira_D))\n",
        "print('Desvio padrão Carteira E:', np.std(carteira_E))\n",
        "print('Desvio padrão Carteira F:', np.std(carteira_F))"
      ],
      "metadata": {
        "colab": {
          "base_uri": "https://localhost:8080/"
        },
        "id": "iS6bQuETU8PQ",
        "outputId": "d1e27cb0-24c3-4371-d8ab-5b2611b8534c"
      },
      "execution_count": 6,
      "outputs": [
        {
          "output_type": "stream",
          "name": "stdout",
          "text": [
            "Desvio padrão Carteira B: 0.011471704319759989\n",
            "Desvio padrão Carteira C: 0.027960786032505517\n",
            "Desvio padrão Carteira D: 0.02755260120811343\n",
            "Desvio padrão Carteira E: 0.025819888974716116\n",
            "Desvio padrão Carteira F: 0.026087459737497546\n"
          ]
        }
      ]
    },
    {
      "cell_type": "code",
      "source": [
        "#COVARIÂNCIA\n",
        "CovariaciaAB = np.cov(carteira_A, carteira_B, bias=True)[0][1]\n",
        "Covariacia_AB = np.cov(carteira_A, carteira_B, bias=False)[0][1]\n",
        "print(\"Covariância entre A e B:\",CovariaciaAB)\n",
        "print(\"Covariância entre A e B:\",Covariacia_AB)"
      ],
      "metadata": {
        "colab": {
          "base_uri": "https://localhost:8080/"
        },
        "id": "jvqERAxnXIhW",
        "outputId": "de94cae2-8f72-4b10-fe5f-0349079d4e1c"
      },
      "execution_count": 8,
      "outputs": [
        {
          "output_type": "stream",
          "name": "stdout",
          "text": [
            "Covariância entre A e B: 0.000172\n",
            "Covariância entre A e B: 0.000215\n"
          ]
        }
      ]
    },
    {
      "cell_type": "code",
      "source": [
        "'''Imprima as seguintes covariancias:\n",
        "\n",
        "Entre C e D populacional\n",
        "Entre E e F por amostragem'''"
      ],
      "metadata": {
        "id": "9NC8ONfpYkoU"
      },
      "execution_count": null,
      "outputs": []
    },
    {
      "cell_type": "code",
      "source": [
        "Covariancia_Amostral_CD = np.cov(carteira_C, carteira_D)\n",
        "n = len(carteira_C)\n",
        "Covariancia_Populacional_CD = Covariancia_Amostral_CD[0, 1] * (n - 1) / n\n",
        "Covariancia_Amostral_EF = np.cov(carteira_E, carteira_F, bias=True)[0][1]\n",
        "print(\"Covariância entre C e D populacional:\",Covariancia_Populacional_CD)\n",
        "print(\"Covariância entre E e F por amostragem:\",Covariancia_Amostral_EF)"
      ],
      "metadata": {
        "colab": {
          "base_uri": "https://localhost:8080/"
        },
        "id": "uBum8XCQZape",
        "outputId": "3cb36260-1afd-4b9a-8e0f-f32a6603f6d6"
      },
      "execution_count": 14,
      "outputs": [
        {
          "output_type": "stream",
          "name": "stdout",
          "text": [
            "Covariância entre C e D populacional: 0.0007603750000000001\n",
            "Covariância entre E e F por amostragem: -0.0006666666666666666\n"
          ]
        }
      ]
    }
  ]
}