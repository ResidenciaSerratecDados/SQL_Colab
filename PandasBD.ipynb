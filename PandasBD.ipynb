{
  "nbformat": 4,
  "nbformat_minor": 0,
  "metadata": {
    "colab": {
      "provenance": []
    },
    "kernelspec": {
      "name": "python3",
      "display_name": "Python 3"
    },
    "language_info": {
      "name": "python"
    }
  },
  "cells": [
    {
      "cell_type": "code",
      "execution_count": 1,
      "metadata": {
        "id": "gsqZbDZ2_kqv"
      },
      "outputs": [],
      "source": [
        "#exemplo utilização\n",
        "import pandas as pd\n",
        "import numpy as np\n",
        "import matplotlib.pyplot as plt"
      ]
    },
    {
      "cell_type": "code",
      "source": [
        "#Criando um DataFrame\n",
        "data = {\n",
        "    'Nome': ['Ana', 'João', 'Maria'],\n",
        "    'Idade': [25, 30, 28],\n",
        "    'Salario': [5000, 7000, 6000]\n",
        "}\n",
        "df = pd.DataFrame(data)"
      ],
      "metadata": {
        "id": "AKPEAWrw_uk2"
      },
      "execution_count": null,
      "outputs": []
    },
    {
      "cell_type": "code",
      "source": [
        "print(df.head())"
      ],
      "metadata": {
        "colab": {
          "base_uri": "https://localhost:8080/"
        },
        "id": "NL8VCxfoANSf",
        "outputId": "72ddacdd-9748-420c-eeee-1b694a9798f0"
      },
      "execution_count": null,
      "outputs": [
        {
          "output_type": "stream",
          "name": "stdout",
          "text": [
            "    Nome  Idade  Salario\n",
            "0    Ana     25     5000\n",
            "1   João     30     7000\n",
            "2  Maria     28     6000\n"
          ]
        }
      ]
    },
    {
      "cell_type": "code",
      "source": [
        "print(df.info())"
      ],
      "metadata": {
        "colab": {
          "base_uri": "https://localhost:8080/"
        },
        "id": "t3G3tctWAn6w",
        "outputId": "238fba72-ec22-4559-f6b2-8d00ccd3b9ce"
      },
      "execution_count": null,
      "outputs": [
        {
          "output_type": "stream",
          "name": "stdout",
          "text": [
            "<class 'pandas.core.frame.DataFrame'>\n",
            "RangeIndex: 3 entries, 0 to 2\n",
            "Data columns (total 3 columns):\n",
            " #   Column   Non-Null Count  Dtype \n",
            "---  ------   --------------  ----- \n",
            " 0   Nome     3 non-null      object\n",
            " 1   Idade    3 non-null      int64 \n",
            " 2   Salario  3 non-null      int64 \n",
            "dtypes: int64(2), object(1)\n",
            "memory usage: 204.0+ bytes\n",
            "None\n"
          ]
        }
      ]
    },
    {
      "cell_type": "code",
      "source": [
        "print(df.describe())"
      ],
      "metadata": {
        "colab": {
          "base_uri": "https://localhost:8080/"
        },
        "id": "MNP4or28A3UW",
        "outputId": "645ad03a-7434-4fc4-8385-2af44c8fb8cd"
      },
      "execution_count": null,
      "outputs": [
        {
          "output_type": "stream",
          "name": "stdout",
          "text": [
            "           Idade  Salario\n",
            "count   3.000000      3.0\n",
            "mean   27.666667   6000.0\n",
            "std     2.516611   1000.0\n",
            "min    25.000000   5000.0\n",
            "25%    26.500000   5500.0\n",
            "50%    28.000000   6000.0\n",
            "75%    29.000000   6500.0\n",
            "max    30.000000   7000.0\n"
          ]
        }
      ]
    },
    {
      "cell_type": "code",
      "source": [
        "#Criando um array\n",
        "arr = np.array([1, 2, 3, 4, 5])\n",
        "\n",
        "#operações vetorizadas\n",
        "print(arr + 10) # soma 10 a cada elemento\n",
        "print(arr - 1) # subtrai 1 de cada elemento\n",
        "print(arr * 2) # multiplica cada elemento por 2\n",
        "print(arr ** 2) # eleva cada elemento por 2\n",
        "print(arr / 2) # divide cada elemento por 2"
      ],
      "metadata": {
        "colab": {
          "base_uri": "https://localhost:8080/"
        },
        "id": "yiIB2prKB-In",
        "outputId": "7ccab7d2-6ce9-495d-a136-45cc15c50f8b"
      },
      "execution_count": null,
      "outputs": [
        {
          "output_type": "stream",
          "name": "stdout",
          "text": [
            "[11 12 13 14 15]\n",
            "[0 1 2 3 4]\n",
            "[ 2  4  6  8 10]\n",
            "[ 1  4  9 16 25]\n",
            "[0.5 1.  1.5 2.  2.5]\n"
          ]
        }
      ]
    },
    {
      "cell_type": "code",
      "source": [
        "# 1 - criação de dados fictícios com NumPy\n",
        "np.random.seed(42)\n",
        "meses = np.array(['Jan', 'Fev', 'Mar', 'Abr', 'Mai'])\n",
        "vendas = np.random.randint(100, 500, size=5)\n",
        "custos = vendas * np.random.uniform(0.3, 0.7, size=5)\n",
        "#escolher numero aleatorio randômico\n",
        "\n",
        "print(meses)\n",
        "print(vendas)\n",
        "print(custos)"
      ],
      "metadata": {
        "colab": {
          "base_uri": "https://localhost:8080/"
        },
        "id": "sY8dYG19Czpm",
        "outputId": "c7dab6e9-01fa-4d26-bae0-71548adca378"
      },
      "execution_count": null,
      "outputs": [
        {
          "output_type": "stream",
          "name": "stdout",
          "text": [
            "['Jan' 'Fev' 'Mar' 'Abr' 'Mai']\n",
            "[202 448 370 206 171]\n",
            "[108.97160552 162.35854037 134.08718901  66.58608964 110.54644837]\n"
          ]
        }
      ]
    },
    {
      "cell_type": "code",
      "source": [
        "# 2 - Conversão para DataFrame do Pandas\n",
        "dados = pd.DataFrame({\n",
        "    'Mes': meses,\n",
        "    'Vendas (R$)': vendas,\n",
        "    'Custos (R$)': np.round(custos,2),\n",
        "    'Clientes': np.random.poisson(lam=50,size=5) #escolher numero aleatorio randômico\n",
        "})\n",
        "print(dados)"
      ],
      "metadata": {
        "colab": {
          "base_uri": "https://localhost:8080/"
        },
        "id": "-Mbv27ZQEoiw",
        "outputId": "9292c990-9d3f-4e32-9c9b-80b5c25a0c3d"
      },
      "execution_count": null,
      "outputs": [
        {
          "output_type": "stream",
          "name": "stdout",
          "text": [
            "   Mes  Vendas (R$)  Custos (R$)  Clientes\n",
            "0  Jan          202       108.97        52\n",
            "1  Fev          448       162.36        58\n",
            "2  Mar          370       134.09        43\n",
            "3  Abr          206        66.59        46\n",
            "4  Mai          171       110.55        49\n"
          ]
        }
      ]
    },
    {
      "cell_type": "code",
      "source": [
        "dados['Lucro (R$)'] = dados['Vendas (R$)'] - dados['Custos (R$)'] # adição de colouna\n",
        "print(dados)"
      ],
      "metadata": {
        "colab": {
          "base_uri": "https://localhost:8080/"
        },
        "id": "z2AEe8s4GQtw",
        "outputId": "8affeb75-28de-4de6-a91f-17ce059ee47c"
      },
      "execution_count": null,
      "outputs": [
        {
          "output_type": "stream",
          "name": "stdout",
          "text": [
            "   Mes  Vendas (R$)  Custos (R$)  Clientes  Lucro (R$)\n",
            "0  Jan          202       108.97        52       93.03\n",
            "1  Fev          448       162.36        58      285.64\n",
            "2  Mar          370       134.09        43      235.91\n",
            "3  Abr          206        66.59        46      139.41\n",
            "4  Mai          171       110.55        49       60.45\n"
          ]
        }
      ]
    },
    {
      "cell_type": "code",
      "source": [
        "dados['Teste (R$)'] = dados['Vendas (R$)'] * dados['Lucro (R$)'] # adição de colouna\n",
        "print(dados)"
      ],
      "metadata": {
        "colab": {
          "base_uri": "https://localhost:8080/"
        },
        "id": "G0UK0fnFHF3X",
        "outputId": "ab8b6726-06b4-47a5-98d8-f18d44d423ad"
      },
      "execution_count": null,
      "outputs": [
        {
          "output_type": "stream",
          "name": "stdout",
          "text": [
            "   Mes  Vendas (R$)  Custos (R$)  Clientes  Lucro (R$)  Teste (R$)\n",
            "0  Jan          202       108.97        52       93.03    18792.06\n",
            "1  Fev          448       162.36        58      285.64   127966.72\n",
            "2  Mar          370       134.09        43      235.91    87286.70\n",
            "3  Abr          206        66.59        46      139.41    28718.46\n",
            "4  Mai          171       110.55        49       60.45    10336.95\n"
          ]
        }
      ]
    },
    {
      "cell_type": "code",
      "source": [
        "dados['Margem %'] = np.round((dados['Lucro (R$)']/ dados['Vendas (R$)']) * 100, 1) #Arredondamento para 1 casa decimal\n",
        "print(dados)"
      ],
      "metadata": {
        "colab": {
          "base_uri": "https://localhost:8080/"
        },
        "id": "ZX0hlQxrIQTh",
        "outputId": "3d6a04c4-19ce-455f-9087-00bdb71c2b2b"
      },
      "execution_count": null,
      "outputs": [
        {
          "output_type": "stream",
          "name": "stdout",
          "text": [
            "   Mes  Vendas (R$)  Custos (R$)  Clientes  Lucro (R$)  Teste (R$)  Margem %\n",
            "0  Jan          202       108.97        52       93.03    18792.06      46.1\n",
            "1  Fev          448       162.36        58      285.64   127966.72      63.8\n",
            "2  Mar          370       134.09        43      235.91    87286.70      63.8\n",
            "3  Abr          206        66.59        46      139.41    28718.46      67.7\n",
            "4  Mai          171       110.55        49       60.45    10336.95      35.4\n"
          ]
        }
      ]
    },
    {
      "cell_type": "code",
      "source": [
        "carteira_A = [0.01, 0.02, -0.015, 0.03, 0.005]\n",
        "variancia_A = np.var(carteira_A)\n",
        "print('Variância:', variancia_A)\n",
        "desvio_padrao_A = np.std(carteira_A)\n",
        "print('Desvio padrão:', desvio_padrao_A)"
      ],
      "metadata": {
        "colab": {
          "base_uri": "https://localhost:8080/"
        },
        "id": "bHCRu2OrR0wa",
        "outputId": "712686e5-b1f3-4ee8-d1a9-9a818363fb47"
      },
      "execution_count": null,
      "outputs": [
        {
          "output_type": "stream",
          "name": "stdout",
          "text": [
            "Variância: 0.00023\n",
            "Desvio padrão: 0.015165750888103102\n"
          ]
        }
      ]
    },
    {
      "cell_type": "code",
      "source": [
        "#criar carteiras, e imprima a variância e os desvio padrão"
      ],
      "metadata": {
        "id": "vCGNlWJRTlYn"
      },
      "execution_count": null,
      "outputs": []
    },
    {
      "cell_type": "code",
      "source": [
        "carteira_B = [0.012, 0.015, -0.01, 0.025, 0.008]\n",
        "carteira_C = [0.1, 0.025, 0.02, 0.025, 0.027, 0.03]\n",
        "carteira_D = [0.1, 0.027, 0.03, 0.0225, 0.023, 0.03]\n",
        "carteira_E = [0.1, 0.02, 0.03, 0.04, 0.05, 0.06]\n",
        "carteira_F = [-0.1, -0.02, -0.03, -0.035, -0.04, -0.055]"
      ],
      "metadata": {
        "id": "amhZYuqSTwrA"
      },
      "execution_count": null,
      "outputs": []
    },
    {
      "cell_type": "code",
      "source": [
        "#VARIÂNCIAS\n",
        "print('Variância Carteira B:', np.var(carteira_B))\n",
        "print('Variância Carteira C:', np.var(carteira_C))\n",
        "print('Variância Carteira D:', np.var(carteira_D))\n",
        "print('Variância Carteira E:', np.var(carteira_E))\n",
        "print('Variância Carteira F:', np.var(carteira_F))"
      ],
      "metadata": {
        "colab": {
          "base_uri": "https://localhost:8080/"
        },
        "id": "-zaQvCg0UvxR",
        "outputId": "6723886e-16fe-410e-c306-ba892500cddb"
      },
      "execution_count": null,
      "outputs": [
        {
          "output_type": "stream",
          "name": "stdout",
          "text": [
            "Variância Carteira B: 0.0001316\n",
            "Variância Carteira C: 0.0007818055555555557\n",
            "Variância Carteira D: 0.0007591458333333336\n",
            "Variância Carteira E: 0.0006666666666666669\n",
            "Variância Carteira F: 0.0006805555555555554\n"
          ]
        }
      ]
    },
    {
      "cell_type": "code",
      "source": [
        "#DESVIO PADRÃO\n",
        "print('Desvio padrão Carteira B:', np.std(carteira_B))\n",
        "print('Desvio padrão Carteira C:', np.std(carteira_C))\n",
        "print('Desvio padrão Carteira D:', np.std(carteira_D))\n",
        "print('Desvio padrão Carteira E:', np.std(carteira_E))\n",
        "print('Desvio padrão Carteira F:', np.std(carteira_F))"
      ],
      "metadata": {
        "colab": {
          "base_uri": "https://localhost:8080/"
        },
        "id": "iS6bQuETU8PQ",
        "outputId": "d1e27cb0-24c3-4371-d8ab-5b2611b8534c"
      },
      "execution_count": null,
      "outputs": [
        {
          "output_type": "stream",
          "name": "stdout",
          "text": [
            "Desvio padrão Carteira B: 0.011471704319759989\n",
            "Desvio padrão Carteira C: 0.027960786032505517\n",
            "Desvio padrão Carteira D: 0.02755260120811343\n",
            "Desvio padrão Carteira E: 0.025819888974716116\n",
            "Desvio padrão Carteira F: 0.026087459737497546\n"
          ]
        }
      ]
    },
    {
      "cell_type": "code",
      "source": [
        "#COVARIÂNCIA\n",
        "CovariaciaAB = np.cov(carteira_A, carteira_B, bias=True)[0][1]\n",
        "Covariacia_AB = np.cov(carteira_A, carteira_B, bias=False)[0][1]\n",
        "print(\"Covariância entre A e B:\",CovariaciaAB)\n",
        "print(\"Covariância entre A e B:\",Covariacia_AB)"
      ],
      "metadata": {
        "colab": {
          "base_uri": "https://localhost:8080/"
        },
        "id": "jvqERAxnXIhW",
        "outputId": "de94cae2-8f72-4b10-fe5f-0349079d4e1c"
      },
      "execution_count": null,
      "outputs": [
        {
          "output_type": "stream",
          "name": "stdout",
          "text": [
            "Covariância entre A e B: 0.000172\n",
            "Covariância entre A e B: 0.000215\n"
          ]
        }
      ]
    },
    {
      "cell_type": "code",
      "source": [
        "'''Imprima as seguintes covariancias:\n",
        "\n",
        "Entre C e D populacional\n",
        "Entre E e F por amostragem'''"
      ],
      "metadata": {
        "id": "9NC8ONfpYkoU"
      },
      "execution_count": null,
      "outputs": []
    },
    {
      "cell_type": "code",
      "source": [
        "Covariancia_Amostral_CD = np.cov(carteira_C, carteira_D)\n",
        "n = len(carteira_C)\n",
        "Covariancia_Populacional_CD = Covariancia_Amostral_CD[0, 1] * (n - 1) / n\n",
        "Covariancia_Amostral_EF = np.cov(carteira_E, carteira_F, bias=True)[0][1]\n",
        "print(\"Covariância entre C e D populacional:\",Covariancia_Populacional_CD)\n",
        "print(\"Covariância entre E e F por amostragem:\",Covariancia_Amostral_EF)"
      ],
      "metadata": {
        "colab": {
          "base_uri": "https://localhost:8080/"
        },
        "id": "uBum8XCQZape",
        "outputId": "3cb36260-1afd-4b9a-8e0f-f32a6603f6d6"
      },
      "execution_count": null,
      "outputs": [
        {
          "output_type": "stream",
          "name": "stdout",
          "text": [
            "Covariância entre C e D populacional: 0.0007603750000000001\n",
            "Covariância entre E e F por amostragem: -0.0006666666666666666\n"
          ]
        }
      ]
    },
    {
      "cell_type": "code",
      "source": [
        "salarios={'Salários':[10,20,30,40,50,60,70,80,90,100,5]}\n",
        "df=pd.DataFrame(salarios)\n",
        "display(df)"
      ],
      "metadata": {
        "colab": {
          "base_uri": "https://localhost:8080/",
          "height": 394
        },
        "id": "Pw1KcO70iWFo",
        "outputId": "51003371-ad6c-4f56-890e-2afb31bffe0a"
      },
      "execution_count": 45,
      "outputs": [
        {
          "output_type": "display_data",
          "data": {
            "text/plain": [
              "    Salários\n",
              "0         10\n",
              "1         20\n",
              "2         30\n",
              "3         40\n",
              "4         50\n",
              "5         60\n",
              "6         70\n",
              "7         80\n",
              "8         90\n",
              "9        100\n",
              "10         5"
            ],
            "text/html": [
              "\n",
              "  <div id=\"df-1dc7b2a2-9ac1-4bdd-82f4-886649750c36\" class=\"colab-df-container\">\n",
              "    <div>\n",
              "<style scoped>\n",
              "    .dataframe tbody tr th:only-of-type {\n",
              "        vertical-align: middle;\n",
              "    }\n",
              "\n",
              "    .dataframe tbody tr th {\n",
              "        vertical-align: top;\n",
              "    }\n",
              "\n",
              "    .dataframe thead th {\n",
              "        text-align: right;\n",
              "    }\n",
              "</style>\n",
              "<table border=\"1\" class=\"dataframe\">\n",
              "  <thead>\n",
              "    <tr style=\"text-align: right;\">\n",
              "      <th></th>\n",
              "      <th>Salários</th>\n",
              "    </tr>\n",
              "  </thead>\n",
              "  <tbody>\n",
              "    <tr>\n",
              "      <th>0</th>\n",
              "      <td>10</td>\n",
              "    </tr>\n",
              "    <tr>\n",
              "      <th>1</th>\n",
              "      <td>20</td>\n",
              "    </tr>\n",
              "    <tr>\n",
              "      <th>2</th>\n",
              "      <td>30</td>\n",
              "    </tr>\n",
              "    <tr>\n",
              "      <th>3</th>\n",
              "      <td>40</td>\n",
              "    </tr>\n",
              "    <tr>\n",
              "      <th>4</th>\n",
              "      <td>50</td>\n",
              "    </tr>\n",
              "    <tr>\n",
              "      <th>5</th>\n",
              "      <td>60</td>\n",
              "    </tr>\n",
              "    <tr>\n",
              "      <th>6</th>\n",
              "      <td>70</td>\n",
              "    </tr>\n",
              "    <tr>\n",
              "      <th>7</th>\n",
              "      <td>80</td>\n",
              "    </tr>\n",
              "    <tr>\n",
              "      <th>8</th>\n",
              "      <td>90</td>\n",
              "    </tr>\n",
              "    <tr>\n",
              "      <th>9</th>\n",
              "      <td>100</td>\n",
              "    </tr>\n",
              "    <tr>\n",
              "      <th>10</th>\n",
              "      <td>5</td>\n",
              "    </tr>\n",
              "  </tbody>\n",
              "</table>\n",
              "</div>\n",
              "    <div class=\"colab-df-buttons\">\n",
              "\n",
              "  <div class=\"colab-df-container\">\n",
              "    <button class=\"colab-df-convert\" onclick=\"convertToInteractive('df-1dc7b2a2-9ac1-4bdd-82f4-886649750c36')\"\n",
              "            title=\"Convert this dataframe to an interactive table.\"\n",
              "            style=\"display:none;\">\n",
              "\n",
              "  <svg xmlns=\"http://www.w3.org/2000/svg\" height=\"24px\" viewBox=\"0 -960 960 960\">\n",
              "    <path d=\"M120-120v-720h720v720H120Zm60-500h600v-160H180v160Zm220 220h160v-160H400v160Zm0 220h160v-160H400v160ZM180-400h160v-160H180v160Zm440 0h160v-160H620v160ZM180-180h160v-160H180v160Zm440 0h160v-160H620v160Z\"/>\n",
              "  </svg>\n",
              "    </button>\n",
              "\n",
              "  <style>\n",
              "    .colab-df-container {\n",
              "      display:flex;\n",
              "      gap: 12px;\n",
              "    }\n",
              "\n",
              "    .colab-df-convert {\n",
              "      background-color: #E8F0FE;\n",
              "      border: none;\n",
              "      border-radius: 50%;\n",
              "      cursor: pointer;\n",
              "      display: none;\n",
              "      fill: #1967D2;\n",
              "      height: 32px;\n",
              "      padding: 0 0 0 0;\n",
              "      width: 32px;\n",
              "    }\n",
              "\n",
              "    .colab-df-convert:hover {\n",
              "      background-color: #E2EBFA;\n",
              "      box-shadow: 0px 1px 2px rgba(60, 64, 67, 0.3), 0px 1px 3px 1px rgba(60, 64, 67, 0.15);\n",
              "      fill: #174EA6;\n",
              "    }\n",
              "\n",
              "    .colab-df-buttons div {\n",
              "      margin-bottom: 4px;\n",
              "    }\n",
              "\n",
              "    [theme=dark] .colab-df-convert {\n",
              "      background-color: #3B4455;\n",
              "      fill: #D2E3FC;\n",
              "    }\n",
              "\n",
              "    [theme=dark] .colab-df-convert:hover {\n",
              "      background-color: #434B5C;\n",
              "      box-shadow: 0px 1px 3px 1px rgba(0, 0, 0, 0.15);\n",
              "      filter: drop-shadow(0px 1px 2px rgba(0, 0, 0, 0.3));\n",
              "      fill: #FFFFFF;\n",
              "    }\n",
              "  </style>\n",
              "\n",
              "    <script>\n",
              "      const buttonEl =\n",
              "        document.querySelector('#df-1dc7b2a2-9ac1-4bdd-82f4-886649750c36 button.colab-df-convert');\n",
              "      buttonEl.style.display =\n",
              "        google.colab.kernel.accessAllowed ? 'block' : 'none';\n",
              "\n",
              "      async function convertToInteractive(key) {\n",
              "        const element = document.querySelector('#df-1dc7b2a2-9ac1-4bdd-82f4-886649750c36');\n",
              "        const dataTable =\n",
              "          await google.colab.kernel.invokeFunction('convertToInteractive',\n",
              "                                                    [key], {});\n",
              "        if (!dataTable) return;\n",
              "\n",
              "        const docLinkHtml = 'Like what you see? Visit the ' +\n",
              "          '<a target=\"_blank\" href=https://colab.research.google.com/notebooks/data_table.ipynb>data table notebook</a>'\n",
              "          + ' to learn more about interactive tables.';\n",
              "        element.innerHTML = '';\n",
              "        dataTable['output_type'] = 'display_data';\n",
              "        await google.colab.output.renderOutput(dataTable, element);\n",
              "        const docLink = document.createElement('div');\n",
              "        docLink.innerHTML = docLinkHtml;\n",
              "        element.appendChild(docLink);\n",
              "      }\n",
              "    </script>\n",
              "  </div>\n",
              "\n",
              "\n",
              "    <div id=\"df-472825a5-12c1-4b6f-b0f8-2d7dfb7a2456\">\n",
              "      <button class=\"colab-df-quickchart\" onclick=\"quickchart('df-472825a5-12c1-4b6f-b0f8-2d7dfb7a2456')\"\n",
              "                title=\"Suggest charts\"\n",
              "                style=\"display:none;\">\n",
              "\n",
              "<svg xmlns=\"http://www.w3.org/2000/svg\" height=\"24px\"viewBox=\"0 0 24 24\"\n",
              "     width=\"24px\">\n",
              "    <g>\n",
              "        <path d=\"M19 3H5c-1.1 0-2 .9-2 2v14c0 1.1.9 2 2 2h14c1.1 0 2-.9 2-2V5c0-1.1-.9-2-2-2zM9 17H7v-7h2v7zm4 0h-2V7h2v10zm4 0h-2v-4h2v4z\"/>\n",
              "    </g>\n",
              "</svg>\n",
              "      </button>\n",
              "\n",
              "<style>\n",
              "  .colab-df-quickchart {\n",
              "      --bg-color: #E8F0FE;\n",
              "      --fill-color: #1967D2;\n",
              "      --hover-bg-color: #E2EBFA;\n",
              "      --hover-fill-color: #174EA6;\n",
              "      --disabled-fill-color: #AAA;\n",
              "      --disabled-bg-color: #DDD;\n",
              "  }\n",
              "\n",
              "  [theme=dark] .colab-df-quickchart {\n",
              "      --bg-color: #3B4455;\n",
              "      --fill-color: #D2E3FC;\n",
              "      --hover-bg-color: #434B5C;\n",
              "      --hover-fill-color: #FFFFFF;\n",
              "      --disabled-bg-color: #3B4455;\n",
              "      --disabled-fill-color: #666;\n",
              "  }\n",
              "\n",
              "  .colab-df-quickchart {\n",
              "    background-color: var(--bg-color);\n",
              "    border: none;\n",
              "    border-radius: 50%;\n",
              "    cursor: pointer;\n",
              "    display: none;\n",
              "    fill: var(--fill-color);\n",
              "    height: 32px;\n",
              "    padding: 0;\n",
              "    width: 32px;\n",
              "  }\n",
              "\n",
              "  .colab-df-quickchart:hover {\n",
              "    background-color: var(--hover-bg-color);\n",
              "    box-shadow: 0 1px 2px rgba(60, 64, 67, 0.3), 0 1px 3px 1px rgba(60, 64, 67, 0.15);\n",
              "    fill: var(--button-hover-fill-color);\n",
              "  }\n",
              "\n",
              "  .colab-df-quickchart-complete:disabled,\n",
              "  .colab-df-quickchart-complete:disabled:hover {\n",
              "    background-color: var(--disabled-bg-color);\n",
              "    fill: var(--disabled-fill-color);\n",
              "    box-shadow: none;\n",
              "  }\n",
              "\n",
              "  .colab-df-spinner {\n",
              "    border: 2px solid var(--fill-color);\n",
              "    border-color: transparent;\n",
              "    border-bottom-color: var(--fill-color);\n",
              "    animation:\n",
              "      spin 1s steps(1) infinite;\n",
              "  }\n",
              "\n",
              "  @keyframes spin {\n",
              "    0% {\n",
              "      border-color: transparent;\n",
              "      border-bottom-color: var(--fill-color);\n",
              "      border-left-color: var(--fill-color);\n",
              "    }\n",
              "    20% {\n",
              "      border-color: transparent;\n",
              "      border-left-color: var(--fill-color);\n",
              "      border-top-color: var(--fill-color);\n",
              "    }\n",
              "    30% {\n",
              "      border-color: transparent;\n",
              "      border-left-color: var(--fill-color);\n",
              "      border-top-color: var(--fill-color);\n",
              "      border-right-color: var(--fill-color);\n",
              "    }\n",
              "    40% {\n",
              "      border-color: transparent;\n",
              "      border-right-color: var(--fill-color);\n",
              "      border-top-color: var(--fill-color);\n",
              "    }\n",
              "    60% {\n",
              "      border-color: transparent;\n",
              "      border-right-color: var(--fill-color);\n",
              "    }\n",
              "    80% {\n",
              "      border-color: transparent;\n",
              "      border-right-color: var(--fill-color);\n",
              "      border-bottom-color: var(--fill-color);\n",
              "    }\n",
              "    90% {\n",
              "      border-color: transparent;\n",
              "      border-bottom-color: var(--fill-color);\n",
              "    }\n",
              "  }\n",
              "</style>\n",
              "\n",
              "      <script>\n",
              "        async function quickchart(key) {\n",
              "          const quickchartButtonEl =\n",
              "            document.querySelector('#' + key + ' button');\n",
              "          quickchartButtonEl.disabled = true;  // To prevent multiple clicks.\n",
              "          quickchartButtonEl.classList.add('colab-df-spinner');\n",
              "          try {\n",
              "            const charts = await google.colab.kernel.invokeFunction(\n",
              "                'suggestCharts', [key], {});\n",
              "          } catch (error) {\n",
              "            console.error('Error during call to suggestCharts:', error);\n",
              "          }\n",
              "          quickchartButtonEl.classList.remove('colab-df-spinner');\n",
              "          quickchartButtonEl.classList.add('colab-df-quickchart-complete');\n",
              "        }\n",
              "        (() => {\n",
              "          let quickchartButtonEl =\n",
              "            document.querySelector('#df-472825a5-12c1-4b6f-b0f8-2d7dfb7a2456 button');\n",
              "          quickchartButtonEl.style.display =\n",
              "            google.colab.kernel.accessAllowed ? 'block' : 'none';\n",
              "        })();\n",
              "      </script>\n",
              "    </div>\n",
              "\n",
              "  <div id=\"id_7fa74f72-ec3e-4318-b98f-dc0d99a1f7dd\">\n",
              "    <style>\n",
              "      .colab-df-generate {\n",
              "        background-color: #E8F0FE;\n",
              "        border: none;\n",
              "        border-radius: 50%;\n",
              "        cursor: pointer;\n",
              "        display: none;\n",
              "        fill: #1967D2;\n",
              "        height: 32px;\n",
              "        padding: 0 0 0 0;\n",
              "        width: 32px;\n",
              "      }\n",
              "\n",
              "      .colab-df-generate:hover {\n",
              "        background-color: #E2EBFA;\n",
              "        box-shadow: 0px 1px 2px rgba(60, 64, 67, 0.3), 0px 1px 3px 1px rgba(60, 64, 67, 0.15);\n",
              "        fill: #174EA6;\n",
              "      }\n",
              "\n",
              "      [theme=dark] .colab-df-generate {\n",
              "        background-color: #3B4455;\n",
              "        fill: #D2E3FC;\n",
              "      }\n",
              "\n",
              "      [theme=dark] .colab-df-generate:hover {\n",
              "        background-color: #434B5C;\n",
              "        box-shadow: 0px 1px 3px 1px rgba(0, 0, 0, 0.15);\n",
              "        filter: drop-shadow(0px 1px 2px rgba(0, 0, 0, 0.3));\n",
              "        fill: #FFFFFF;\n",
              "      }\n",
              "    </style>\n",
              "    <button class=\"colab-df-generate\" onclick=\"generateWithVariable('df')\"\n",
              "            title=\"Generate code using this dataframe.\"\n",
              "            style=\"display:none;\">\n",
              "\n",
              "  <svg xmlns=\"http://www.w3.org/2000/svg\" height=\"24px\"viewBox=\"0 0 24 24\"\n",
              "       width=\"24px\">\n",
              "    <path d=\"M7,19H8.4L18.45,9,17,7.55,7,17.6ZM5,21V16.75L18.45,3.32a2,2,0,0,1,2.83,0l1.4,1.43a1.91,1.91,0,0,1,.58,1.4,1.91,1.91,0,0,1-.58,1.4L9.25,21ZM18.45,9,17,7.55Zm-12,3A5.31,5.31,0,0,0,4.9,8.1,5.31,5.31,0,0,0,1,6.5,5.31,5.31,0,0,0,4.9,4.9,5.31,5.31,0,0,0,6.5,1,5.31,5.31,0,0,0,8.1,4.9,5.31,5.31,0,0,0,12,6.5,5.46,5.46,0,0,0,6.5,12Z\"/>\n",
              "  </svg>\n",
              "    </button>\n",
              "    <script>\n",
              "      (() => {\n",
              "      const buttonEl =\n",
              "        document.querySelector('#id_7fa74f72-ec3e-4318-b98f-dc0d99a1f7dd button.colab-df-generate');\n",
              "      buttonEl.style.display =\n",
              "        google.colab.kernel.accessAllowed ? 'block' : 'none';\n",
              "\n",
              "      buttonEl.onclick = () => {\n",
              "        google.colab.notebook.generateWithVariable('df');\n",
              "      }\n",
              "      })();\n",
              "    </script>\n",
              "  </div>\n",
              "\n",
              "    </div>\n",
              "  </div>\n"
            ],
            "application/vnd.google.colaboratory.intrinsic+json": {
              "type": "dataframe",
              "variable_name": "df",
              "summary": "{\n  \"name\": \"df\",\n  \"rows\": 11,\n  \"fields\": [\n    {\n      \"column\": \"Sal\\u00e1rios\",\n      \"properties\": {\n        \"dtype\": \"number\",\n        \"std\": 32,\n        \"min\": 5,\n        \"max\": 100,\n        \"num_unique_values\": 11,\n        \"samples\": [\n          60,\n          10,\n          100\n        ],\n        \"semantic_type\": \"\",\n        \"description\": \"\"\n      }\n    }\n  ]\n}"
            }
          },
          "metadata": {}
        }
      ]
    },
    {
      "cell_type": "code",
      "source": [
        "assimetria=df['Salários'].skew()\n",
        "media=df['Salários'].mean()\n",
        "mediana=df['Salários'].median()\n",
        "print('Assimetria:',assimetria)\n",
        "print('Média:',media)\n",
        "print('Mediana:',mediana)"
      ],
      "metadata": {
        "colab": {
          "base_uri": "https://localhost:8080/"
        },
        "id": "KRjY24IWi5YF",
        "outputId": "f854ea97-08a2-4322-ba78-ee863317fb93"
      },
      "execution_count": 46,
      "outputs": [
        {
          "output_type": "stream",
          "name": "stdout",
          "text": [
            "Assimetria: 0.06991078051074522\n",
            "Média: 50.45454545454545\n",
            "Mediana: 50.0\n"
          ]
        }
      ]
    },
    {
      "cell_type": "code",
      "source": [
        "#Distribuições simétrica e assimétrica\n",
        "\n",
        "if -0.5 <= assimetria <= 0.5:\n",
        "    print('A distribuição é simétrica')\n",
        "elif assimetria > -0.5:\n",
        "    print('A distribuição é assimétrica positiva')\n",
        "else:\n",
        "    print('A distribuição é assimétrica negativa')"
      ],
      "metadata": {
        "colab": {
          "base_uri": "https://localhost:8080/"
        },
        "id": "IRcpdGJLk1dI",
        "outputId": "57b16892-8a77-4fc2-81d6-25212c1c4e66"
      },
      "execution_count": 47,
      "outputs": [
        {
          "output_type": "stream",
          "name": "stdout",
          "text": [
            "A distribuição é simétrica\n"
          ]
        }
      ]
    },
    {
      "cell_type": "code",
      "source": [
        "#Curtose\n",
        "curtose=df['Salários'].kurtosis()\n",
        "print('Curtose:',curtose)"
      ],
      "metadata": {
        "colab": {
          "base_uri": "https://localhost:8080/"
        },
        "id": "HNQ4-ZCmneY8",
        "outputId": "d45ef63f-98fe-4dab-b982-bedf6e5b65df"
      },
      "execution_count": 48,
      "outputs": [
        {
          "output_type": "stream",
          "name": "stdout",
          "text": [
            "Curtose: -1.2886947273159843\n"
          ]
        }
      ]
    },
    {
      "cell_type": "code",
      "source": [
        "'''Curtose é uma medida que mede o GRAU DE CONCENTRAÇÃO dos dados ao redor da MÉDIA. No Pandas, isso é visto pelo método kurtosis() e nos ajuda a ver os \"níveis de curtose\" que indicam a presença ou ausência de outliers.\n",
        "\n",
        "Como vou interpretar meus dados:\n",
        "\n",
        "Curtose >= 2.5 e Curtose <= 3.5: MESOCÚRTICA (distribuição normal, dados bem distribuídos em torno da média);\n",
        "\n",
        "Curtose < 2.5: PLATICÚRTICA (dados mais dispersos; presença comum de outliers);\n",
        "\n",
        "Curtose > 3.5: LEPTOCÚRTICA (dados MUITO concentrados na média; outliers MUITO presentes).'''"
      ],
      "metadata": {
        "colab": {
          "base_uri": "https://localhost:8080/",
          "height": 71
        },
        "id": "-cN6cKu5pYZc",
        "outputId": "b4326c30-d7a1-459a-aabd-bc6051e7aabc"
      },
      "execution_count": 34,
      "outputs": [
        {
          "output_type": "execute_result",
          "data": {
            "text/plain": [
              "'Curtose é uma medida que mede o GRAU DE CONCENTRAÇÃO dos dados ao redor da MÉDIA. No Pandas, isso é visto pelo método kurtosis() e nos ajuda a ver os \"níveis de curtose\" que indicam a presença ou ausência de outliers.\\n\\nComo vou interpretar meus dados:\\n\\nCurtose >= 2.5 e Curtose <= 3.5: MESOCÚRTICA (distribuição normal, dados bem distribuídos em torno da média);\\n\\nCurtose < 2.5: PLATICÚRTICA (dados mais dispersos; presença comum de outliers);\\n\\nCurtose > 3.5: LEPTOCÚRTICA (dados MUITO concentrados na média; outliers MUITO presentes).'"
            ],
            "application/vnd.google.colaboratory.intrinsic+json": {
              "type": "string"
            }
          },
          "metadata": {},
          "execution_count": 34
        }
      ]
    },
    {
      "cell_type": "code",
      "source": [
        "if 2.5 <= curtose <= 3.5:\n",
        "    print('A distribuição é MESOCÚRTICA')\n",
        "elif curtose < 2.5:\n",
        "    print('A distribuição é PLATIOCÚRTICA')\n",
        "else:\n",
        "    print('A distribuição é LEPTOCÚRTICA')"
      ],
      "metadata": {
        "colab": {
          "base_uri": "https://localhost:8080/"
        },
        "id": "GYgXVDg6n26U",
        "outputId": "40e13a42-0ab9-4039-cf40-6c332df3c9fd"
      },
      "execution_count": 49,
      "outputs": [
        {
          "output_type": "stream",
          "name": "stdout",
          "text": [
            "A distribuição é PLATIOCÚRTICA\n"
          ]
        }
      ]
    },
    {
      "cell_type": "code",
      "source": [
        "plt.boxplot(df['Salários'])\n",
        "plt.title('Boxplot dos Salários')\n",
        "plt.ylabel('Salário')\n",
        "plt.show()"
      ],
      "metadata": {
        "colab": {
          "base_uri": "https://localhost:8080/",
          "height": 453
        },
        "id": "nPRI6qwutGnM",
        "outputId": "35eacd1d-4080-4bab-f3aa-396dc823fc65"
      },
      "execution_count": 50,
      "outputs": [
        {
          "output_type": "display_data",
          "data": {
            "text/plain": [
              "<Figure size 640x480 with 1 Axes>"
            ],
            "image/png": "[encoded data removed]"
          },
          "metadata": {}
        }
      ]
    }
  ]
}